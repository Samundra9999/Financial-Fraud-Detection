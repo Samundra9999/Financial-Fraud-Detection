{
 "cells": [
  {
   "cell_type": "code",
   "execution_count": 5,
   "id": "1aeecfbf-0a5f-4b43-843c-b93b2a327292",
   "metadata": {},
   "outputs": [],
   "source": [
    "import pandas as pd # Importing libraries\n",
    "import numpy as np\n",
    "import seaborn as sns\n",
    "import matplotlib.pyplot as plt"
   ]
  },
  {
   "cell_type": "code",
   "execution_count": 6,
   "id": "f6f91876-78d4-42ea-b169-aab0c30793c4",
   "metadata": {},
   "outputs": [],
   "source": [
    "df = pd.read_csv(\"Fraud.csv\") # Reading file"
   ]
  },
  {
   "cell_type": "code",
   "execution_count": 7,
   "id": "bd40a5b2-a7a9-4f3a-8806-e1113d5c424f",
   "metadata": {},
   "outputs": [
    {
     "data": {
      "text/html": [
       "<div>\n",
       "<style scoped>\n",
       "    .dataframe tbody tr th:only-of-type {\n",
       "        vertical-align: middle;\n",
       "    }\n",
       "\n",
       "    .dataframe tbody tr th {\n",
       "        vertical-align: top;\n",
       "    }\n",
       "\n",
       "    .dataframe thead th {\n",
       "        text-align: right;\n",
       "    }\n",
       "</style>\n",
       "<table border=\"1\" class=\"dataframe\">\n",
       "  <thead>\n",
       "    <tr style=\"text-align: right;\">\n",
       "      <th></th>\n",
       "      <th>step</th>\n",
       "      <th>type</th>\n",
       "      <th>amount</th>\n",
       "      <th>nameOrig</th>\n",
       "      <th>oldbalanceOrg</th>\n",
       "      <th>newbalanceOrig</th>\n",
       "      <th>nameDest</th>\n",
       "      <th>oldbalanceDest</th>\n",
       "      <th>newbalanceDest</th>\n",
       "      <th>isFraud</th>\n",
       "      <th>isFlaggedFraud</th>\n",
       "    </tr>\n",
       "  </thead>\n",
       "  <tbody>\n",
       "    <tr>\n",
       "      <th>0</th>\n",
       "      <td>1</td>\n",
       "      <td>PAYMENT</td>\n",
       "      <td>9839.64</td>\n",
       "      <td>C1231006815</td>\n",
       "      <td>170136.0</td>\n",
       "      <td>160296.36</td>\n",
       "      <td>M1979787155</td>\n",
       "      <td>0.0</td>\n",
       "      <td>0.0</td>\n",
       "      <td>0</td>\n",
       "      <td>0</td>\n",
       "    </tr>\n",
       "    <tr>\n",
       "      <th>1</th>\n",
       "      <td>1</td>\n",
       "      <td>PAYMENT</td>\n",
       "      <td>1864.28</td>\n",
       "      <td>C1666544295</td>\n",
       "      <td>21249.0</td>\n",
       "      <td>19384.72</td>\n",
       "      <td>M2044282225</td>\n",
       "      <td>0.0</td>\n",
       "      <td>0.0</td>\n",
       "      <td>0</td>\n",
       "      <td>0</td>\n",
       "    </tr>\n",
       "    <tr>\n",
       "      <th>2</th>\n",
       "      <td>1</td>\n",
       "      <td>TRANSFER</td>\n",
       "      <td>181.00</td>\n",
       "      <td>C1305486145</td>\n",
       "      <td>181.0</td>\n",
       "      <td>0.00</td>\n",
       "      <td>C553264065</td>\n",
       "      <td>0.0</td>\n",
       "      <td>0.0</td>\n",
       "      <td>1</td>\n",
       "      <td>0</td>\n",
       "    </tr>\n",
       "    <tr>\n",
       "      <th>3</th>\n",
       "      <td>1</td>\n",
       "      <td>CASH_OUT</td>\n",
       "      <td>181.00</td>\n",
       "      <td>C840083671</td>\n",
       "      <td>181.0</td>\n",
       "      <td>0.00</td>\n",
       "      <td>C38997010</td>\n",
       "      <td>21182.0</td>\n",
       "      <td>0.0</td>\n",
       "      <td>1</td>\n",
       "      <td>0</td>\n",
       "    </tr>\n",
       "    <tr>\n",
       "      <th>4</th>\n",
       "      <td>1</td>\n",
       "      <td>PAYMENT</td>\n",
       "      <td>11668.14</td>\n",
       "      <td>C2048537720</td>\n",
       "      <td>41554.0</td>\n",
       "      <td>29885.86</td>\n",
       "      <td>M1230701703</td>\n",
       "      <td>0.0</td>\n",
       "      <td>0.0</td>\n",
       "      <td>0</td>\n",
       "      <td>0</td>\n",
       "    </tr>\n",
       "  </tbody>\n",
       "</table>\n",
       "</div>"
      ],
      "text/plain": [
       "   step      type    amount     nameOrig  oldbalanceOrg  newbalanceOrig  \\\n",
       "0     1   PAYMENT   9839.64  C1231006815       170136.0       160296.36   \n",
       "1     1   PAYMENT   1864.28  C1666544295        21249.0        19384.72   \n",
       "2     1  TRANSFER    181.00  C1305486145          181.0            0.00   \n",
       "3     1  CASH_OUT    181.00   C840083671          181.0            0.00   \n",
       "4     1   PAYMENT  11668.14  C2048537720        41554.0        29885.86   \n",
       "\n",
       "      nameDest  oldbalanceDest  newbalanceDest  isFraud  isFlaggedFraud  \n",
       "0  M1979787155             0.0             0.0        0               0  \n",
       "1  M2044282225             0.0             0.0        0               0  \n",
       "2   C553264065             0.0             0.0        1               0  \n",
       "3    C38997010         21182.0             0.0        1               0  \n",
       "4  M1230701703             0.0             0.0        0               0  "
      ]
     },
     "execution_count": 7,
     "metadata": {},
     "output_type": "execute_result"
    }
   ],
   "source": [
    "df.head()"
   ]
  },
  {
   "cell_type": "code",
   "execution_count": 8,
   "id": "07231487-1ba2-4608-96b7-e12b117c006e",
   "metadata": {},
   "outputs": [
    {
     "name": "stdout",
     "output_type": "stream",
     "text": [
      "<class 'pandas.core.frame.DataFrame'>\n",
      "RangeIndex: 6362620 entries, 0 to 6362619\n",
      "Data columns (total 11 columns):\n",
      " #   Column          Dtype  \n",
      "---  ------          -----  \n",
      " 0   step            int64  \n",
      " 1   type            object \n",
      " 2   amount          float64\n",
      " 3   nameOrig        object \n",
      " 4   oldbalanceOrg   float64\n",
      " 5   newbalanceOrig  float64\n",
      " 6   nameDest        object \n",
      " 7   oldbalanceDest  float64\n",
      " 8   newbalanceDest  float64\n",
      " 9   isFraud         int64  \n",
      " 10  isFlaggedFraud  int64  \n",
      "dtypes: float64(5), int64(3), object(3)\n",
      "memory usage: 534.0+ MB\n"
     ]
    }
   ],
   "source": [
    "df.info()"
   ]
  },
  {
   "cell_type": "code",
   "execution_count": 9,
   "id": "c7d58c8b-7a39-4766-96c6-e9efda9638c6",
   "metadata": {},
   "outputs": [
    {
     "data": {
      "text/html": [
       "<div>\n",
       "<style scoped>\n",
       "    .dataframe tbody tr th:only-of-type {\n",
       "        vertical-align: middle;\n",
       "    }\n",
       "\n",
       "    .dataframe tbody tr th {\n",
       "        vertical-align: top;\n",
       "    }\n",
       "\n",
       "    .dataframe thead th {\n",
       "        text-align: right;\n",
       "    }\n",
       "</style>\n",
       "<table border=\"1\" class=\"dataframe\">\n",
       "  <thead>\n",
       "    <tr style=\"text-align: right;\">\n",
       "      <th></th>\n",
       "      <th>step</th>\n",
       "      <th>amount</th>\n",
       "      <th>oldbalanceOrg</th>\n",
       "      <th>newbalanceOrig</th>\n",
       "      <th>oldbalanceDest</th>\n",
       "      <th>newbalanceDest</th>\n",
       "      <th>isFraud</th>\n",
       "      <th>isFlaggedFraud</th>\n",
       "    </tr>\n",
       "  </thead>\n",
       "  <tbody>\n",
       "    <tr>\n",
       "      <th>count</th>\n",
       "      <td>6.362620e+06</td>\n",
       "      <td>6.362620e+06</td>\n",
       "      <td>6.362620e+06</td>\n",
       "      <td>6.362620e+06</td>\n",
       "      <td>6.362620e+06</td>\n",
       "      <td>6.362620e+06</td>\n",
       "      <td>6.362620e+06</td>\n",
       "      <td>6.362620e+06</td>\n",
       "    </tr>\n",
       "    <tr>\n",
       "      <th>mean</th>\n",
       "      <td>2.433972e+02</td>\n",
       "      <td>1.798619e+05</td>\n",
       "      <td>8.338831e+05</td>\n",
       "      <td>8.551137e+05</td>\n",
       "      <td>1.100702e+06</td>\n",
       "      <td>1.224996e+06</td>\n",
       "      <td>1.290820e-03</td>\n",
       "      <td>2.514687e-06</td>\n",
       "    </tr>\n",
       "    <tr>\n",
       "      <th>std</th>\n",
       "      <td>1.423320e+02</td>\n",
       "      <td>6.038582e+05</td>\n",
       "      <td>2.888243e+06</td>\n",
       "      <td>2.924049e+06</td>\n",
       "      <td>3.399180e+06</td>\n",
       "      <td>3.674129e+06</td>\n",
       "      <td>3.590480e-02</td>\n",
       "      <td>1.585775e-03</td>\n",
       "    </tr>\n",
       "    <tr>\n",
       "      <th>min</th>\n",
       "      <td>1.000000e+00</td>\n",
       "      <td>0.000000e+00</td>\n",
       "      <td>0.000000e+00</td>\n",
       "      <td>0.000000e+00</td>\n",
       "      <td>0.000000e+00</td>\n",
       "      <td>0.000000e+00</td>\n",
       "      <td>0.000000e+00</td>\n",
       "      <td>0.000000e+00</td>\n",
       "    </tr>\n",
       "    <tr>\n",
       "      <th>25%</th>\n",
       "      <td>1.560000e+02</td>\n",
       "      <td>1.338957e+04</td>\n",
       "      <td>0.000000e+00</td>\n",
       "      <td>0.000000e+00</td>\n",
       "      <td>0.000000e+00</td>\n",
       "      <td>0.000000e+00</td>\n",
       "      <td>0.000000e+00</td>\n",
       "      <td>0.000000e+00</td>\n",
       "    </tr>\n",
       "    <tr>\n",
       "      <th>50%</th>\n",
       "      <td>2.390000e+02</td>\n",
       "      <td>7.487194e+04</td>\n",
       "      <td>1.420800e+04</td>\n",
       "      <td>0.000000e+00</td>\n",
       "      <td>1.327057e+05</td>\n",
       "      <td>2.146614e+05</td>\n",
       "      <td>0.000000e+00</td>\n",
       "      <td>0.000000e+00</td>\n",
       "    </tr>\n",
       "    <tr>\n",
       "      <th>75%</th>\n",
       "      <td>3.350000e+02</td>\n",
       "      <td>2.087215e+05</td>\n",
       "      <td>1.073152e+05</td>\n",
       "      <td>1.442584e+05</td>\n",
       "      <td>9.430367e+05</td>\n",
       "      <td>1.111909e+06</td>\n",
       "      <td>0.000000e+00</td>\n",
       "      <td>0.000000e+00</td>\n",
       "    </tr>\n",
       "    <tr>\n",
       "      <th>max</th>\n",
       "      <td>7.430000e+02</td>\n",
       "      <td>9.244552e+07</td>\n",
       "      <td>5.958504e+07</td>\n",
       "      <td>4.958504e+07</td>\n",
       "      <td>3.560159e+08</td>\n",
       "      <td>3.561793e+08</td>\n",
       "      <td>1.000000e+00</td>\n",
       "      <td>1.000000e+00</td>\n",
       "    </tr>\n",
       "  </tbody>\n",
       "</table>\n",
       "</div>"
      ],
      "text/plain": [
       "               step        amount  oldbalanceOrg  newbalanceOrig  \\\n",
       "count  6.362620e+06  6.362620e+06   6.362620e+06    6.362620e+06   \n",
       "mean   2.433972e+02  1.798619e+05   8.338831e+05    8.551137e+05   \n",
       "std    1.423320e+02  6.038582e+05   2.888243e+06    2.924049e+06   \n",
       "min    1.000000e+00  0.000000e+00   0.000000e+00    0.000000e+00   \n",
       "25%    1.560000e+02  1.338957e+04   0.000000e+00    0.000000e+00   \n",
       "50%    2.390000e+02  7.487194e+04   1.420800e+04    0.000000e+00   \n",
       "75%    3.350000e+02  2.087215e+05   1.073152e+05    1.442584e+05   \n",
       "max    7.430000e+02  9.244552e+07   5.958504e+07    4.958504e+07   \n",
       "\n",
       "       oldbalanceDest  newbalanceDest       isFraud  isFlaggedFraud  \n",
       "count    6.362620e+06    6.362620e+06  6.362620e+06    6.362620e+06  \n",
       "mean     1.100702e+06    1.224996e+06  1.290820e-03    2.514687e-06  \n",
       "std      3.399180e+06    3.674129e+06  3.590480e-02    1.585775e-03  \n",
       "min      0.000000e+00    0.000000e+00  0.000000e+00    0.000000e+00  \n",
       "25%      0.000000e+00    0.000000e+00  0.000000e+00    0.000000e+00  \n",
       "50%      1.327057e+05    2.146614e+05  0.000000e+00    0.000000e+00  \n",
       "75%      9.430367e+05    1.111909e+06  0.000000e+00    0.000000e+00  \n",
       "max      3.560159e+08    3.561793e+08  1.000000e+00    1.000000e+00  "
      ]
     },
     "execution_count": 9,
     "metadata": {},
     "output_type": "execute_result"
    }
   ],
   "source": [
    "df.describe()"
   ]
  },
  {
   "cell_type": "code",
   "execution_count": 10,
   "id": "32546b75-6bcd-4f4c-9c33-f1db67c72afb",
   "metadata": {},
   "outputs": [
    {
     "data": {
      "text/plain": [
       "step              0\n",
       "type              0\n",
       "amount            0\n",
       "nameOrig          0\n",
       "oldbalanceOrg     0\n",
       "newbalanceOrig    0\n",
       "nameDest          0\n",
       "oldbalanceDest    0\n",
       "newbalanceDest    0\n",
       "isFraud           0\n",
       "isFlaggedFraud    0\n",
       "dtype: int64"
      ]
     },
     "execution_count": 10,
     "metadata": {},
     "output_type": "execute_result"
    }
   ],
   "source": [
    "df.isnull().sum() # Check Null vaues"
   ]
  },
  {
   "cell_type": "code",
   "execution_count": 11,
   "id": "8bbf74f5-5aab-4730-9258-8e35cf9e50ce",
   "metadata": {},
   "outputs": [
    {
     "data": {
      "text/plain": [
       "(6362620, 11)"
      ]
     },
     "execution_count": 11,
     "metadata": {},
     "output_type": "execute_result"
    }
   ],
   "source": [
    "df.shape # show shapr of dataset"
   ]
  },
  {
   "cell_type": "code",
   "execution_count": 12,
   "id": "e1a11faf-53df-47ab-9637-514ab819aa20",
   "metadata": {},
   "outputs": [
    {
     "data": {
      "text/plain": [
       "Index(['step', 'type', 'amount', 'nameOrig', 'oldbalanceOrg', 'newbalanceOrig',\n",
       "       'nameDest', 'oldbalanceDest', 'newbalanceDest', 'isFraud',\n",
       "       'isFlaggedFraud'],\n",
       "      dtype='object')"
      ]
     },
     "execution_count": 12,
     "metadata": {},
     "output_type": "execute_result"
    }
   ],
   "source": [
    "df.columns"
   ]
  },
  {
   "cell_type": "markdown",
   "id": "577356d6-8979-4c00-8053-1fb5b9ba7e99",
   "metadata": {},
   "source": [
    "# Columns of the dataset\n",
    "step -> maps a unit of time in the real world. In this case 1 step is 1 hour of time. Total steps 744 (30 days simulation).<br>\n",
    "type -> CASH-IN, CASH-OUT, DEBIT, PAYMENT and TRANSFER.<br>\n",
    "amount -> amount of the transaction in local currency.<br>\n",
    "nameOrig -> customer who started the transaction<br>\n",
    "oldbalanceOrg -> initial balance before the transaction<br>\n",
    "newbalanceOrig -> new balance after the transaction<br>\n",
    "nameDest -> customer who is the recipient of the transaction<br>\n",
    "oldbalanceDest -> initial balance recipient before the transaction. Note that there is not information for customers that start with M (Merchants).<br>\n",
    "newbalanceDest -> new balance recipient after the transaction. Note that there is not information for customers that start with M (Merchants).<br>\n",
    "isFraud -> This is the transactions made by the fraudulent agents inside the simulation. In this specific dataset the fraudulent behavior of the agents aims to profit by taking control or customers accounts and try to empty the funds by transferring to another account and then cashing out of the system.<br>\n",
    "isFlaggedFraud -> The business model aims to control massive transfers from one account to another and flags illegal attempts. An illegal attempt in this dataset is an attempt to transfer more than 200.000 in a single transaction."
   ]
  },
  {
   "cell_type": "code",
   "execution_count": 14,
   "id": "f294e781-a8c2-4bf6-b439-9f043b924529",
   "metadata": {},
   "outputs": [],
   "source": [
    "df['hour_of_day'] = df['step']%24  # making hour column"
   ]
  },
  {
   "cell_type": "code",
   "execution_count": 15,
   "id": "f166fd73-7bd4-4508-adf3-9a9b8c3bb7b7",
   "metadata": {},
   "outputs": [],
   "source": [
    "df['day_of_week'] = ((df['step']/24)%7 + 1).astype('int64') # making day column"
   ]
  },
  {
   "cell_type": "code",
   "execution_count": 16,
   "id": "e71fc057-6181-47f3-b886-8819d2be0f92",
   "metadata": {},
   "outputs": [
    {
     "data": {
      "image/png": "[encoded data removed]",
      "text/plain": [
       "<Figure size 640x480 with 1 Axes>"
      ]
     },
     "metadata": {},
     "output_type": "display_data"
    }
   ],
   "source": [
    "df['type'].value_counts().plot(kind = 'bar') # Bar plot for type column\n",
    "plt.show()"
   ]
  },
  {
   "cell_type": "code",
   "execution_count": 17,
   "id": "a8528d2e-5d93-4220-9616-043a2b5c3eb3",
   "metadata": {},
   "outputs": [
    {
     "data": {
      "image/png": "[encoded data removed]",
      "text/plain": [
       "<Figure size 640x480 with 1 Axes>"
      ]
     },
     "metadata": {},
     "output_type": "display_data"
    }
   ],
   "source": [
    "sns.kdeplot(data = df, x = 'amount') # KDE plot of amount column\n",
    "plt.show()"
   ]
  },
  {
   "cell_type": "code",
   "execution_count": 18,
   "id": "78e81e22-8733-48f2-9024-cfb60de03f89",
   "metadata": {},
   "outputs": [
    {
     "data": {
      "text/html": [
       "<div>\n",
       "<style scoped>\n",
       "    .dataframe tbody tr th:only-of-type {\n",
       "        vertical-align: middle;\n",
       "    }\n",
       "\n",
       "    .dataframe tbody tr th {\n",
       "        vertical-align: top;\n",
       "    }\n",
       "\n",
       "    .dataframe thead th {\n",
       "        text-align: right;\n",
       "    }\n",
       "</style>\n",
       "<table border=\"1\" class=\"dataframe\">\n",
       "  <thead>\n",
       "    <tr style=\"text-align: right;\">\n",
       "      <th></th>\n",
       "      <th>step</th>\n",
       "      <th>type</th>\n",
       "      <th>amount</th>\n",
       "      <th>nameOrig</th>\n",
       "      <th>oldbalanceOrg</th>\n",
       "      <th>newbalanceOrig</th>\n",
       "      <th>nameDest</th>\n",
       "      <th>oldbalanceDest</th>\n",
       "      <th>newbalanceDest</th>\n",
       "      <th>isFraud</th>\n",
       "      <th>isFlaggedFraud</th>\n",
       "      <th>hour_of_day</th>\n",
       "      <th>day_of_week</th>\n",
       "    </tr>\n",
       "  </thead>\n",
       "  <tbody>\n",
       "    <tr>\n",
       "      <th>5913656</th>\n",
       "      <td>404</td>\n",
       "      <td>PAYMENT</td>\n",
       "      <td>1627.13</td>\n",
       "      <td>C606588644</td>\n",
       "      <td>0.00</td>\n",
       "      <td>0.00</td>\n",
       "      <td>M1469531947</td>\n",
       "      <td>0.00</td>\n",
       "      <td>0.00</td>\n",
       "      <td>0</td>\n",
       "      <td>0</td>\n",
       "      <td>20</td>\n",
       "      <td>3</td>\n",
       "    </tr>\n",
       "    <tr>\n",
       "      <th>4700497</th>\n",
       "      <td>331</td>\n",
       "      <td>CASH_IN</td>\n",
       "      <td>215844.90</td>\n",
       "      <td>C974864419</td>\n",
       "      <td>54975.00</td>\n",
       "      <td>270819.90</td>\n",
       "      <td>C186113619</td>\n",
       "      <td>219279.39</td>\n",
       "      <td>0.00</td>\n",
       "      <td>0</td>\n",
       "      <td>0</td>\n",
       "      <td>19</td>\n",
       "      <td>7</td>\n",
       "    </tr>\n",
       "    <tr>\n",
       "      <th>4280721</th>\n",
       "      <td>307</td>\n",
       "      <td>PAYMENT</td>\n",
       "      <td>116.41</td>\n",
       "      <td>C718892825</td>\n",
       "      <td>0.00</td>\n",
       "      <td>0.00</td>\n",
       "      <td>M1016767563</td>\n",
       "      <td>0.00</td>\n",
       "      <td>0.00</td>\n",
       "      <td>0</td>\n",
       "      <td>0</td>\n",
       "      <td>19</td>\n",
       "      <td>6</td>\n",
       "    </tr>\n",
       "    <tr>\n",
       "      <th>2202549</th>\n",
       "      <td>185</td>\n",
       "      <td>CASH_OUT</td>\n",
       "      <td>140731.12</td>\n",
       "      <td>C1999510619</td>\n",
       "      <td>72343.00</td>\n",
       "      <td>0.00</td>\n",
       "      <td>C8428935</td>\n",
       "      <td>446361.34</td>\n",
       "      <td>587092.46</td>\n",
       "      <td>0</td>\n",
       "      <td>0</td>\n",
       "      <td>17</td>\n",
       "      <td>1</td>\n",
       "    </tr>\n",
       "    <tr>\n",
       "      <th>3375673</th>\n",
       "      <td>254</td>\n",
       "      <td>CASH_IN</td>\n",
       "      <td>207143.87</td>\n",
       "      <td>C660380090</td>\n",
       "      <td>1462338.40</td>\n",
       "      <td>1669482.27</td>\n",
       "      <td>C1744839097</td>\n",
       "      <td>424832.77</td>\n",
       "      <td>189772.87</td>\n",
       "      <td>0</td>\n",
       "      <td>0</td>\n",
       "      <td>14</td>\n",
       "      <td>4</td>\n",
       "    </tr>\n",
       "    <tr>\n",
       "      <th>5934311</th>\n",
       "      <td>404</td>\n",
       "      <td>CASH_OUT</td>\n",
       "      <td>3677.50</td>\n",
       "      <td>C71247069</td>\n",
       "      <td>216990.00</td>\n",
       "      <td>213312.50</td>\n",
       "      <td>C1580074395</td>\n",
       "      <td>420663.08</td>\n",
       "      <td>424340.58</td>\n",
       "      <td>0</td>\n",
       "      <td>0</td>\n",
       "      <td>20</td>\n",
       "      <td>3</td>\n",
       "    </tr>\n",
       "    <tr>\n",
       "      <th>1171630</th>\n",
       "      <td>132</td>\n",
       "      <td>CASH_OUT</td>\n",
       "      <td>25075.43</td>\n",
       "      <td>C1432826256</td>\n",
       "      <td>0.00</td>\n",
       "      <td>0.00</td>\n",
       "      <td>C900593096</td>\n",
       "      <td>133988.79</td>\n",
       "      <td>148038.53</td>\n",
       "      <td>0</td>\n",
       "      <td>0</td>\n",
       "      <td>12</td>\n",
       "      <td>6</td>\n",
       "    </tr>\n",
       "    <tr>\n",
       "      <th>4954322</th>\n",
       "      <td>351</td>\n",
       "      <td>CASH_IN</td>\n",
       "      <td>130635.22</td>\n",
       "      <td>C1930150828</td>\n",
       "      <td>22572591.68</td>\n",
       "      <td>22703226.89</td>\n",
       "      <td>C1576974192</td>\n",
       "      <td>170922.24</td>\n",
       "      <td>40287.02</td>\n",
       "      <td>0</td>\n",
       "      <td>0</td>\n",
       "      <td>15</td>\n",
       "      <td>1</td>\n",
       "    </tr>\n",
       "    <tr>\n",
       "      <th>4909987</th>\n",
       "      <td>349</td>\n",
       "      <td>CASH_IN</td>\n",
       "      <td>366633.19</td>\n",
       "      <td>C1665953859</td>\n",
       "      <td>175.00</td>\n",
       "      <td>366808.19</td>\n",
       "      <td>C1509538563</td>\n",
       "      <td>404110.43</td>\n",
       "      <td>37477.24</td>\n",
       "      <td>0</td>\n",
       "      <td>0</td>\n",
       "      <td>13</td>\n",
       "      <td>1</td>\n",
       "    </tr>\n",
       "    <tr>\n",
       "      <th>5298302</th>\n",
       "      <td>373</td>\n",
       "      <td>CASH_OUT</td>\n",
       "      <td>48320.34</td>\n",
       "      <td>C614542789</td>\n",
       "      <td>0.00</td>\n",
       "      <td>0.00</td>\n",
       "      <td>C636878126</td>\n",
       "      <td>2103477.58</td>\n",
       "      <td>2151797.92</td>\n",
       "      <td>0</td>\n",
       "      <td>0</td>\n",
       "      <td>13</td>\n",
       "      <td>2</td>\n",
       "    </tr>\n",
       "  </tbody>\n",
       "</table>\n",
       "</div>"
      ],
      "text/plain": [
       "         step      type     amount     nameOrig  oldbalanceOrg  \\\n",
       "5913656   404   PAYMENT    1627.13   C606588644           0.00   \n",
       "4700497   331   CASH_IN  215844.90   C974864419       54975.00   \n",
       "4280721   307   PAYMENT     116.41   C718892825           0.00   \n",
       "2202549   185  CASH_OUT  140731.12  C1999510619       72343.00   \n",
       "3375673   254   CASH_IN  207143.87   C660380090     1462338.40   \n",
       "5934311   404  CASH_OUT    3677.50    C71247069      216990.00   \n",
       "1171630   132  CASH_OUT   25075.43  C1432826256           0.00   \n",
       "4954322   351   CASH_IN  130635.22  C1930150828    22572591.68   \n",
       "4909987   349   CASH_IN  366633.19  C1665953859         175.00   \n",
       "5298302   373  CASH_OUT   48320.34   C614542789           0.00   \n",
       "\n",
       "         newbalanceOrig     nameDest  oldbalanceDest  newbalanceDest  isFraud  \\\n",
       "5913656            0.00  M1469531947            0.00            0.00        0   \n",
       "4700497       270819.90   C186113619       219279.39            0.00        0   \n",
       "4280721            0.00  M1016767563            0.00            0.00        0   \n",
       "2202549            0.00     C8428935       446361.34       587092.46        0   \n",
       "3375673      1669482.27  C1744839097       424832.77       189772.87        0   \n",
       "5934311       213312.50  C1580074395       420663.08       424340.58        0   \n",
       "1171630            0.00   C900593096       133988.79       148038.53        0   \n",
       "4954322     22703226.89  C1576974192       170922.24        40287.02        0   \n",
       "4909987       366808.19  C1509538563       404110.43        37477.24        0   \n",
       "5298302            0.00   C636878126      2103477.58      2151797.92        0   \n",
       "\n",
       "         isFlaggedFraud  hour_of_day  day_of_week  \n",
       "5913656               0           20            3  \n",
       "4700497               0           19            7  \n",
       "4280721               0           19            6  \n",
       "2202549               0           17            1  \n",
       "3375673               0           14            4  \n",
       "5934311               0           20            3  \n",
       "1171630               0           12            6  \n",
       "4954322               0           15            1  \n",
       "4909987               0           13            1  \n",
       "5298302               0           13            2  "
      ]
     },
     "execution_count": 18,
     "metadata": {},
     "output_type": "execute_result"
    }
   ],
   "source": [
    "df.sample(10)"
   ]
  },
  {
   "cell_type": "code",
   "execution_count": 19,
   "id": "43c4d917-7776-45dd-986c-038ac907d619",
   "metadata": {},
   "outputs": [],
   "source": [
    "df['is_merchant'] = df['nameDest'].apply(lambda s:1 if s.startswith('M') else 0) # making new column to check if the reciver is merchant or not"
   ]
  },
  {
   "cell_type": "code",
   "execution_count": 20,
   "id": "2412f74b-1a40-4c98-980f-9137b6b0192a",
   "metadata": {},
   "outputs": [
    {
     "data": {
      "text/plain": [
       "isFraud\n",
       "0    6354407\n",
       "1       8213\n",
       "Name: count, dtype: int64"
      ]
     },
     "execution_count": 20,
     "metadata": {},
     "output_type": "execute_result"
    }
   ],
   "source": [
    "df['isFraud'].value_counts() # Counting if the transaction is fraud or not "
   ]
  },
  {
   "cell_type": "code",
   "execution_count": 21,
   "id": "2e105b8b-be5c-4e87-a796-bd0047730cc0",
   "metadata": {},
   "outputs": [
    {
     "data": {
      "text/plain": [
       "isFraud\n",
       "0    2151495\n",
       "Name: count, dtype: int64"
      ]
     },
     "execution_count": 21,
     "metadata": {},
     "output_type": "execute_result"
    }
   ],
   "source": [
    "df[(df['is_merchant'] == 1)]['isFraud'].value_counts() # Checking if the merchant is fraud or not-fraud"
   ]
  },
  {
   "cell_type": "code",
   "execution_count": 22,
   "id": "876ebcda-2b95-451e-9a07-32c38c16f4bc",
   "metadata": {},
   "outputs": [
    {
     "data": {
      "image/png": "[encoded data removed]",
      "text/plain": [
       "<Figure size 640x480 with 1 Axes>"
      ]
     },
     "metadata": {},
     "output_type": "display_data"
    }
   ],
   "source": [
    "df[df['isFraud']==1]['type'].value_counts().plot(kind = 'bar')\n",
    "plt.xlabel('type')\n",
    "plt.ylabel('fraud_count')\n",
    "plt.title('Fraudulent Transactions by Type')\n",
    "plt.show()"
   ]
  },
  {
   "cell_type": "code",
   "execution_count": 23,
   "id": "ba28e7ee-51c0-4065-a59b-75840baf6da6",
   "metadata": {},
   "outputs": [
    {
     "data": {
      "image/png": "[encoded data removed]",
      "text/plain": [
       "<Figure size 2000x1000 with 1 Axes>"
      ]
     },
     "metadata": {},
     "output_type": "display_data"
    }
   ],
   "source": [
    "plt.figure(figsize=(20,10))\n",
    "df[df['isFraud'] == 1]['hour_of_day'].value_counts().plot(kind = 'bar')\n",
    "plt.xlabel('hour of day')\n",
    "plt.ylabel('fraud count')\n",
    "plt.title('Fraudulent Transactions by hour in day')\n",
    "plt.show()"
   ]
  },
  {
   "cell_type": "code",
   "execution_count": 24,
   "id": "b348dcb0-da58-4edc-8fd6-d397ca3f31f9",
   "metadata": {},
   "outputs": [
    {
     "data": {
      "image/png": "[encoded data removed]",
      "text/plain": [
       "<Figure size 640x480 with 1 Axes>"
      ]
     },
     "metadata": {},
     "output_type": "display_data"
    }
   ],
   "source": [
    "# plt.figure(figsize=(20,10))\n",
    "df[df['isFraud'] == 1]['day_of_week'].value_counts().plot(kind = 'bar')\n",
    "plt.xlabel('day of week')\n",
    "plt.ylabel('fraud count')\n",
    "plt.title('Fraudulent Transactions by day in week')\n",
    "plt.show()"
   ]
  },
  {
   "cell_type": "code",
   "execution_count": 25,
   "id": "8ca46194-417a-4998-8c48-a624182cb158",
   "metadata": {},
   "outputs": [
    {
     "data": {
      "text/plain": [
       "isFraud\n",
       "0    283847\n",
       "1      4091\n",
       "Name: count, dtype: int64"
      ]
     },
     "execution_count": 25,
     "metadata": {},
     "output_type": "execute_result"
    }
   ],
   "source": [
    "df[(df['newbalanceDest']==0) & (df['is_merchant']==0)]['isFraud'].value_counts()"
   ]
  },
  {
   "cell_type": "code",
   "execution_count": 26,
   "id": "8f495db4-7c77-4ab9-a154-57d79b39b899",
   "metadata": {},
   "outputs": [
    {
     "data": {
      "text/plain": [
       "<Axes: >"
      ]
     },
     "execution_count": 26,
     "metadata": {},
     "output_type": "execute_result"
    },
    {
     "data": {
      "image/png": "[encoded data removed]",
      "text/plain": [
       "<Figure size 640x480 with 1 Axes>"
      ]
     },
     "metadata": {},
     "output_type": "display_data"
    }
   ],
   "source": [
    "df['amount'].plot(kind = 'box') # Box plot for amount column to check the outliers"
   ]
  },
  {
   "cell_type": "code",
   "execution_count": 27,
   "id": "335aed2b-6fdc-407d-b883-760ffeb08c76",
   "metadata": {},
   "outputs": [],
   "source": [
    "def outlier_handler(column): # Handling outlier\n",
    "    Q1 = df[column].quantile(0.25)\n",
    "    Q3 = df[column].quantile(0.75)\n",
    "    iqr = Q3 - Q1\n",
    "    lower = Q1 - 1.5*iqr\n",
    "    upper = Q3 + 1.5*iqr\n",
    "    return lower,upper"
   ]
  },
  {
   "cell_type": "code",
   "execution_count": 28,
   "id": "de34f887-e2d2-48ad-8aed-ff9de8374c4f",
   "metadata": {},
   "outputs": [],
   "source": [
    "lower,upper = outlier_handler('amount')"
   ]
  },
  {
   "cell_type": "code",
   "execution_count": 29,
   "id": "7e454e67-62c3-4e1f-ad92-a3437ae4ecbf",
   "metadata": {},
   "outputs": [
    {
     "data": {
      "text/plain": [
       "isFraud\n",
       "0    334224\n",
       "1      3854\n",
       "Name: count, dtype: int64"
      ]
     },
     "execution_count": 29,
     "metadata": {},
     "output_type": "execute_result"
    }
   ],
   "source": [
    "df[(df['amount']<lower) | (df['amount']>upper)]['isFraud'].value_counts()"
   ]
  },
  {
   "cell_type": "code",
   "execution_count": 30,
   "id": "5580d075-37de-4bd7-970c-f002fb55ac1d",
   "metadata": {},
   "outputs": [],
   "source": [
    "df['amount'] = np.log1p(df['amount']) # Log transfer to the amount column"
   ]
  },
  {
   "cell_type": "code",
   "execution_count": 31,
   "id": "03980ccb-c232-46f0-9315-c4a672af4413",
   "metadata": {},
   "outputs": [
    {
     "data": {
      "text/plain": [
       "<Axes: ylabel='Density'>"
      ]
     },
     "execution_count": 31,
     "metadata": {},
     "output_type": "execute_result"
    },
    {
     "data": {
      "image/png": "[encoded data removed]",
      "text/plain": [
       "<Figure size 640x480 with 1 Axes>"
      ]
     },
     "metadata": {},
     "output_type": "display_data"
    }
   ],
   "source": [
    "df['amount'].plot(kind = 'kde') # KDE plot for amount column"
   ]
  },
  {
   "cell_type": "code",
   "execution_count": 32,
   "id": "506219d6-4f7b-47e5-b072-f54782c31bc6",
   "metadata": {},
   "outputs": [
    {
     "data": {
      "text/plain": [
       "isFraud\n",
       "0    2151495\n",
       "Name: count, dtype: int64"
      ]
     },
     "execution_count": 32,
     "metadata": {},
     "output_type": "execute_result"
    }
   ],
   "source": [
    "df[df['is_merchant']==1]['isFraud'].value_counts()"
   ]
  },
  {
   "cell_type": "code",
   "execution_count": 33,
   "id": "5b5d2983-2bbd-427d-8ca6-6bafd45757c6",
   "metadata": {},
   "outputs": [],
   "source": [
    "df['changeOrig'] = df['newbalanceOrig'] - df['oldbalanceOrg'] # Column to store the changes in senders account\n",
    "df['changeDest'] = df['newbalanceDest'] - df['oldbalanceDest'] # Column to store the changes in receivers account"
   ]
  },
  {
   "cell_type": "code",
   "execution_count": 34,
   "id": "5c9280fc-7c53-4c59-b776-42ff22621a73",
   "metadata": {},
   "outputs": [
    {
     "data": {
      "text/html": [
       "<div>\n",
       "<style scoped>\n",
       "    .dataframe tbody tr th:only-of-type {\n",
       "        vertical-align: middle;\n",
       "    }\n",
       "\n",
       "    .dataframe tbody tr th {\n",
       "        vertical-align: top;\n",
       "    }\n",
       "\n",
       "    .dataframe thead th {\n",
       "        text-align: right;\n",
       "    }\n",
       "</style>\n",
       "<table border=\"1\" class=\"dataframe\">\n",
       "  <thead>\n",
       "    <tr style=\"text-align: right;\">\n",
       "      <th></th>\n",
       "      <th>step</th>\n",
       "      <th>type</th>\n",
       "      <th>amount</th>\n",
       "      <th>nameOrig</th>\n",
       "      <th>oldbalanceOrg</th>\n",
       "      <th>newbalanceOrig</th>\n",
       "      <th>nameDest</th>\n",
       "      <th>oldbalanceDest</th>\n",
       "      <th>newbalanceDest</th>\n",
       "      <th>isFraud</th>\n",
       "      <th>isFlaggedFraud</th>\n",
       "      <th>hour_of_day</th>\n",
       "      <th>day_of_week</th>\n",
       "      <th>is_merchant</th>\n",
       "      <th>changeOrig</th>\n",
       "      <th>changeDest</th>\n",
       "    </tr>\n",
       "  </thead>\n",
       "  <tbody>\n",
       "    <tr>\n",
       "      <th>0</th>\n",
       "      <td>1</td>\n",
       "      <td>PAYMENT</td>\n",
       "      <td>9.194276</td>\n",
       "      <td>C1231006815</td>\n",
       "      <td>170136.0</td>\n",
       "      <td>160296.36</td>\n",
       "      <td>M1979787155</td>\n",
       "      <td>0.0</td>\n",
       "      <td>0.0</td>\n",
       "      <td>0</td>\n",
       "      <td>0</td>\n",
       "      <td>1</td>\n",
       "      <td>1</td>\n",
       "      <td>1</td>\n",
       "      <td>-9839.64</td>\n",
       "      <td>0.0</td>\n",
       "    </tr>\n",
       "    <tr>\n",
       "      <th>1</th>\n",
       "      <td>1</td>\n",
       "      <td>PAYMENT</td>\n",
       "      <td>7.531166</td>\n",
       "      <td>C1666544295</td>\n",
       "      <td>21249.0</td>\n",
       "      <td>19384.72</td>\n",
       "      <td>M2044282225</td>\n",
       "      <td>0.0</td>\n",
       "      <td>0.0</td>\n",
       "      <td>0</td>\n",
       "      <td>0</td>\n",
       "      <td>1</td>\n",
       "      <td>1</td>\n",
       "      <td>1</td>\n",
       "      <td>-1864.28</td>\n",
       "      <td>0.0</td>\n",
       "    </tr>\n",
       "    <tr>\n",
       "      <th>2</th>\n",
       "      <td>1</td>\n",
       "      <td>TRANSFER</td>\n",
       "      <td>5.204007</td>\n",
       "      <td>C1305486145</td>\n",
       "      <td>181.0</td>\n",
       "      <td>0.00</td>\n",
       "      <td>C553264065</td>\n",
       "      <td>0.0</td>\n",
       "      <td>0.0</td>\n",
       "      <td>1</td>\n",
       "      <td>0</td>\n",
       "      <td>1</td>\n",
       "      <td>1</td>\n",
       "      <td>0</td>\n",
       "      <td>-181.00</td>\n",
       "      <td>0.0</td>\n",
       "    </tr>\n",
       "    <tr>\n",
       "      <th>3</th>\n",
       "      <td>1</td>\n",
       "      <td>CASH_OUT</td>\n",
       "      <td>5.204007</td>\n",
       "      <td>C840083671</td>\n",
       "      <td>181.0</td>\n",
       "      <td>0.00</td>\n",
       "      <td>C38997010</td>\n",
       "      <td>21182.0</td>\n",
       "      <td>0.0</td>\n",
       "      <td>1</td>\n",
       "      <td>0</td>\n",
       "      <td>1</td>\n",
       "      <td>1</td>\n",
       "      <td>0</td>\n",
       "      <td>-181.00</td>\n",
       "      <td>-21182.0</td>\n",
       "    </tr>\n",
       "    <tr>\n",
       "      <th>4</th>\n",
       "      <td>1</td>\n",
       "      <td>PAYMENT</td>\n",
       "      <td>9.364703</td>\n",
       "      <td>C2048537720</td>\n",
       "      <td>41554.0</td>\n",
       "      <td>29885.86</td>\n",
       "      <td>M1230701703</td>\n",
       "      <td>0.0</td>\n",
       "      <td>0.0</td>\n",
       "      <td>0</td>\n",
       "      <td>0</td>\n",
       "      <td>1</td>\n",
       "      <td>1</td>\n",
       "      <td>1</td>\n",
       "      <td>-11668.14</td>\n",
       "      <td>0.0</td>\n",
       "    </tr>\n",
       "  </tbody>\n",
       "</table>\n",
       "</div>"
      ],
      "text/plain": [
       "   step      type    amount     nameOrig  oldbalanceOrg  newbalanceOrig  \\\n",
       "0     1   PAYMENT  9.194276  C1231006815       170136.0       160296.36   \n",
       "1     1   PAYMENT  7.531166  C1666544295        21249.0        19384.72   \n",
       "2     1  TRANSFER  5.204007  C1305486145          181.0            0.00   \n",
       "3     1  CASH_OUT  5.204007   C840083671          181.0            0.00   \n",
       "4     1   PAYMENT  9.364703  C2048537720        41554.0        29885.86   \n",
       "\n",
       "      nameDest  oldbalanceDest  newbalanceDest  isFraud  isFlaggedFraud  \\\n",
       "0  M1979787155             0.0             0.0        0               0   \n",
       "1  M2044282225             0.0             0.0        0               0   \n",
       "2   C553264065             0.0             0.0        1               0   \n",
       "3    C38997010         21182.0             0.0        1               0   \n",
       "4  M1230701703             0.0             0.0        0               0   \n",
       "\n",
       "   hour_of_day  day_of_week  is_merchant  changeOrig  changeDest  \n",
       "0            1            1            1    -9839.64         0.0  \n",
       "1            1            1            1    -1864.28         0.0  \n",
       "2            1            1            0     -181.00         0.0  \n",
       "3            1            1            0     -181.00    -21182.0  \n",
       "4            1            1            1   -11668.14         0.0  "
      ]
     },
     "execution_count": 34,
     "metadata": {},
     "output_type": "execute_result"
    }
   ],
   "source": [
    "df.head()"
   ]
  },
  {
   "cell_type": "code",
   "execution_count": 35,
   "id": "c0d35725-1c65-4c97-a42c-51dbebfe2a79",
   "metadata": {},
   "outputs": [],
   "source": [
    "df.drop(columns=['step','nameOrig','oldbalanceOrg','newbalanceOrig','nameDest','oldbalanceDest','newbalanceDest'],inplace = True)"
   ]
  },
  {
   "cell_type": "code",
   "execution_count": 36,
   "id": "c7944117-5a0f-4740-b9e3-24ea6d6d7972",
   "metadata": {},
   "outputs": [
    {
     "data": {
      "text/html": [
       "<div>\n",
       "<style scoped>\n",
       "    .dataframe tbody tr th:only-of-type {\n",
       "        vertical-align: middle;\n",
       "    }\n",
       "\n",
       "    .dataframe tbody tr th {\n",
       "        vertical-align: top;\n",
       "    }\n",
       "\n",
       "    .dataframe thead th {\n",
       "        text-align: right;\n",
       "    }\n",
       "</style>\n",
       "<table border=\"1\" class=\"dataframe\">\n",
       "  <thead>\n",
       "    <tr style=\"text-align: right;\">\n",
       "      <th></th>\n",
       "      <th>type</th>\n",
       "      <th>amount</th>\n",
       "      <th>isFraud</th>\n",
       "      <th>isFlaggedFraud</th>\n",
       "      <th>hour_of_day</th>\n",
       "      <th>day_of_week</th>\n",
       "      <th>is_merchant</th>\n",
       "      <th>changeOrig</th>\n",
       "      <th>changeDest</th>\n",
       "    </tr>\n",
       "  </thead>\n",
       "  <tbody>\n",
       "    <tr>\n",
       "      <th>0</th>\n",
       "      <td>PAYMENT</td>\n",
       "      <td>9.194276</td>\n",
       "      <td>0</td>\n",
       "      <td>0</td>\n",
       "      <td>1</td>\n",
       "      <td>1</td>\n",
       "      <td>1</td>\n",
       "      <td>-9839.64</td>\n",
       "      <td>0.0</td>\n",
       "    </tr>\n",
       "    <tr>\n",
       "      <th>1</th>\n",
       "      <td>PAYMENT</td>\n",
       "      <td>7.531166</td>\n",
       "      <td>0</td>\n",
       "      <td>0</td>\n",
       "      <td>1</td>\n",
       "      <td>1</td>\n",
       "      <td>1</td>\n",
       "      <td>-1864.28</td>\n",
       "      <td>0.0</td>\n",
       "    </tr>\n",
       "    <tr>\n",
       "      <th>2</th>\n",
       "      <td>TRANSFER</td>\n",
       "      <td>5.204007</td>\n",
       "      <td>1</td>\n",
       "      <td>0</td>\n",
       "      <td>1</td>\n",
       "      <td>1</td>\n",
       "      <td>0</td>\n",
       "      <td>-181.00</td>\n",
       "      <td>0.0</td>\n",
       "    </tr>\n",
       "    <tr>\n",
       "      <th>3</th>\n",
       "      <td>CASH_OUT</td>\n",
       "      <td>5.204007</td>\n",
       "      <td>1</td>\n",
       "      <td>0</td>\n",
       "      <td>1</td>\n",
       "      <td>1</td>\n",
       "      <td>0</td>\n",
       "      <td>-181.00</td>\n",
       "      <td>-21182.0</td>\n",
       "    </tr>\n",
       "    <tr>\n",
       "      <th>4</th>\n",
       "      <td>PAYMENT</td>\n",
       "      <td>9.364703</td>\n",
       "      <td>0</td>\n",
       "      <td>0</td>\n",
       "      <td>1</td>\n",
       "      <td>1</td>\n",
       "      <td>1</td>\n",
       "      <td>-11668.14</td>\n",
       "      <td>0.0</td>\n",
       "    </tr>\n",
       "  </tbody>\n",
       "</table>\n",
       "</div>"
      ],
      "text/plain": [
       "       type    amount  isFraud  isFlaggedFraud  hour_of_day  day_of_week  \\\n",
       "0   PAYMENT  9.194276        0               0            1            1   \n",
       "1   PAYMENT  7.531166        0               0            1            1   \n",
       "2  TRANSFER  5.204007        1               0            1            1   \n",
       "3  CASH_OUT  5.204007        1               0            1            1   \n",
       "4   PAYMENT  9.364703        0               0            1            1   \n",
       "\n",
       "   is_merchant  changeOrig  changeDest  \n",
       "0            1    -9839.64         0.0  \n",
       "1            1    -1864.28         0.0  \n",
       "2            0     -181.00         0.0  \n",
       "3            0     -181.00    -21182.0  \n",
       "4            1   -11668.14         0.0  "
      ]
     },
     "execution_count": 36,
     "metadata": {},
     "output_type": "execute_result"
    }
   ],
   "source": [
    "df.head()"
   ]
  },
  {
   "cell_type": "code",
   "execution_count": 37,
   "id": "cc4d4e12-d95f-4624-85e5-eb242a8f4889",
   "metadata": {},
   "outputs": [
    {
     "data": {
      "text/plain": [
       "Index(['type', 'amount', 'isFraud', 'isFlaggedFraud', 'hour_of_day',\n",
       "       'day_of_week', 'is_merchant', 'changeOrig', 'changeDest'],\n",
       "      dtype='object')"
      ]
     },
     "execution_count": 37,
     "metadata": {},
     "output_type": "execute_result"
    }
   ],
   "source": [
    "df.columns"
   ]
  },
  {
   "cell_type": "code",
   "execution_count": 38,
   "id": "d10c6ab0-71fb-4593-8489-ded5ef2d3871",
   "metadata": {},
   "outputs": [
    {
     "data": {
      "text/plain": [
       "type               object\n",
       "amount            float64\n",
       "isFraud             int64\n",
       "isFlaggedFraud      int64\n",
       "hour_of_day         int64\n",
       "day_of_week         int64\n",
       "is_merchant         int64\n",
       "changeOrig        float64\n",
       "changeDest        float64\n",
       "dtype: object"
      ]
     },
     "execution_count": 38,
     "metadata": {},
     "output_type": "execute_result"
    }
   ],
   "source": [
    "df.dtypes"
   ]
  },
  {
   "cell_type": "code",
   "execution_count": 39,
   "id": "9e035617-5b9f-4c0b-976b-260c9e2f15ac",
   "metadata": {},
   "outputs": [],
   "source": [
    "from sklearn.linear_model import LogisticRegression\n",
    "from xgboost import XGBClassifier\n",
    "from sklearn.ensemble import RandomForestClassifier\n",
    "from sklearn.svm import SVC\n",
    "from sklearn.model_selection import train_test_split, GridSearchCV\n",
    "from sklearn.metrics import accuracy_score, precision_score,recall_score,f1_score, confusion_matrix,classification_report,ConfusionMatrixDisplay\n",
    "from sklearn.preprocessing import OneHotEncoder,StandardScaler, LabelEncoder\n",
    "from sklearn.pipeline import Pipeline\n",
    "from sklearn.compose import ColumnTransformer\n",
    "import shap"
   ]
  },
  {
   "cell_type": "code",
   "execution_count": 40,
   "id": "3efd6e56-608b-4557-b630-891b61715087",
   "metadata": {},
   "outputs": [],
   "source": [
    "x = df.drop(columns=['isFraud'])\n",
    "y = df['isFraud']"
   ]
  },
  {
   "cell_type": "code",
   "execution_count": 41,
   "id": "ae5239ed-0229-4dc9-9d77-7f4c9fe605ea",
   "metadata": {},
   "outputs": [],
   "source": [
    "x_train, x_test, y_train, y_test = train_test_split(x,y, test_size=0.2, random_state=42)"
   ]
  },
  {
   "cell_type": "code",
   "execution_count": 42,
   "id": "8cae3ee0-7de9-4947-91e2-03bdd153f80c",
   "metadata": {},
   "outputs": [
    {
     "data": {
      "text/html": [
       "<div>\n",
       "<style scoped>\n",
       "    .dataframe tbody tr th:only-of-type {\n",
       "        vertical-align: middle;\n",
       "    }\n",
       "\n",
       "    .dataframe tbody tr th {\n",
       "        vertical-align: top;\n",
       "    }\n",
       "\n",
       "    .dataframe thead th {\n",
       "        text-align: right;\n",
       "    }\n",
       "</style>\n",
       "<table border=\"1\" class=\"dataframe\">\n",
       "  <thead>\n",
       "    <tr style=\"text-align: right;\">\n",
       "      <th></th>\n",
       "      <th>type</th>\n",
       "      <th>amount</th>\n",
       "      <th>isFlaggedFraud</th>\n",
       "      <th>hour_of_day</th>\n",
       "      <th>day_of_week</th>\n",
       "      <th>is_merchant</th>\n",
       "      <th>changeOrig</th>\n",
       "      <th>changeDest</th>\n",
       "    </tr>\n",
       "  </thead>\n",
       "  <tbody>\n",
       "    <tr>\n",
       "      <th>6271196</th>\n",
       "      <td>CASH_IN</td>\n",
       "      <td>12.864592</td>\n",
       "      <td>0</td>\n",
       "      <td>19</td>\n",
       "      <td>5</td>\n",
       "      <td>0</td>\n",
       "      <td>386385.07</td>\n",
       "      <td>-386385.08</td>\n",
       "    </tr>\n",
       "    <tr>\n",
       "      <th>1888243</th>\n",
       "      <td>CASH_IN</td>\n",
       "      <td>12.266508</td>\n",
       "      <td>0</td>\n",
       "      <td>20</td>\n",
       "      <td>7</td>\n",
       "      <td>0</td>\n",
       "      <td>212458.78</td>\n",
       "      <td>-212458.78</td>\n",
       "    </tr>\n",
       "    <tr>\n",
       "      <th>5549957</th>\n",
       "      <td>PAYMENT</td>\n",
       "      <td>9.901916</td>\n",
       "      <td>0</td>\n",
       "      <td>22</td>\n",
       "      <td>2</td>\n",
       "      <td>1</td>\n",
       "      <td>-3634.00</td>\n",
       "      <td>0.00</td>\n",
       "    </tr>\n",
       "    <tr>\n",
       "      <th>2025342</th>\n",
       "      <td>CASH_OUT</td>\n",
       "      <td>13.176127</td>\n",
       "      <td>0</td>\n",
       "      <td>12</td>\n",
       "      <td>1</td>\n",
       "      <td>0</td>\n",
       "      <td>-180216.00</td>\n",
       "      <td>527616.51</td>\n",
       "    </tr>\n",
       "    <tr>\n",
       "      <th>682342</th>\n",
       "      <td>TRANSFER</td>\n",
       "      <td>12.235966</td>\n",
       "      <td>0</td>\n",
       "      <td>12</td>\n",
       "      <td>2</td>\n",
       "      <td>0</td>\n",
       "      <td>0.00</td>\n",
       "      <td>206067.84</td>\n",
       "    </tr>\n",
       "  </tbody>\n",
       "</table>\n",
       "</div>"
      ],
      "text/plain": [
       "             type     amount  isFlaggedFraud  hour_of_day  day_of_week  \\\n",
       "6271196   CASH_IN  12.864592               0           19            5   \n",
       "1888243   CASH_IN  12.266508               0           20            7   \n",
       "5549957   PAYMENT   9.901916               0           22            2   \n",
       "2025342  CASH_OUT  13.176127               0           12            1   \n",
       "682342   TRANSFER  12.235966               0           12            2   \n",
       "\n",
       "         is_merchant  changeOrig  changeDest  \n",
       "6271196            0   386385.07  -386385.08  \n",
       "1888243            0   212458.78  -212458.78  \n",
       "5549957            1    -3634.00        0.00  \n",
       "2025342            0  -180216.00   527616.51  \n",
       "682342             0        0.00   206067.84  "
      ]
     },
     "execution_count": 42,
     "metadata": {},
     "output_type": "execute_result"
    }
   ],
   "source": [
    "x_train.head()"
   ]
  },
  {
   "cell_type": "code",
   "execution_count": 43,
   "id": "62b10e59-ec47-46d5-a433-ad3d431356eb",
   "metadata": {},
   "outputs": [],
   "source": [
    "ohe = OneHotEncoder(drop = 'first',sparse_output=False)\n",
    "label = LabelEncoder()\n",
    "scaler = StandardScaler()\n",
    "xgc = XGBClassifier()"
   ]
  },
  {
   "cell_type": "code",
   "execution_count": 44,
   "id": "d418da68-9af6-41e3-bb00-47153074fc13",
   "metadata": {},
   "outputs": [],
   "source": [
    "trf = ColumnTransformer([\n",
    "    (\"ohe\",ohe,[0]),\n",
    "    (\"scaler\",scaler,['amount','changeOrig','changeDest'])\n",
    "],remainder='passthrough')"
   ]
  },
  {
   "cell_type": "markdown",
   "id": "6700c063-9250-47fb-92f0-48b62ceb244e",
   "metadata": {},
   "source": [
    "# Handling imbalanced data"
   ]
  },
  {
   "cell_type": "markdown",
   "id": "b34c4ce5-f1e6-4fd0-9538-0f4c80dc84ec",
   "metadata": {},
   "source": [
    "***1) Assigning weight to the class***"
   ]
  },
  {
   "cell_type": "code",
   "execution_count": 47,
   "id": "e3fd55be-e38a-4a73-b588-ac218b6059e8",
   "metadata": {},
   "outputs": [],
   "source": [
    "lr_bal = LogisticRegression(class_weight='balanced')\n",
    "lr_weight = LogisticRegression(class_weight={0:1,1:10})\n",
    "rf_bal = RandomForestClassifier(class_weight='balanced',n_estimators=10)\n",
    "rf_weight = RandomForestClassifier(class_weight={0:1,1:10},n_estimators=10)"
   ]
  },
  {
   "cell_type": "code",
   "execution_count": 48,
   "id": "33b58219-b823-4fad-9a5e-cc75d01fafcc",
   "metadata": {},
   "outputs": [
    {
     "name": "stdout",
     "output_type": "stream",
     "text": [
      "Classification report for LogisticRegression(class_weight='balanced')\n",
      "\n",
      "\n",
      "              precision    recall  f1-score   support\n",
      "\n",
      "           0       1.00      0.95      0.97   1270904\n",
      "           1       0.02      0.97      0.04      1620\n",
      "\n",
      "    accuracy                           0.95   1272524\n",
      "   macro avg       0.51      0.96      0.51   1272524\n",
      "weighted avg       1.00      0.95      0.97   1272524\n",
      "\n",
      "Classification report for LogisticRegression(class_weight={0: 1, 1: 10})\n",
      "\n",
      "\n",
      "              precision    recall  f1-score   support\n",
      "\n",
      "           0       1.00      1.00      1.00   1270904\n",
      "           1       0.44      0.61      0.51      1620\n",
      "\n",
      "    accuracy                           1.00   1272524\n",
      "   macro avg       0.72      0.81      0.75   1272524\n",
      "weighted avg       1.00      1.00      1.00   1272524\n",
      "\n",
      "Classification report for RandomForestClassifier(class_weight='balanced', n_estimators=10)\n",
      "\n",
      "\n",
      "              precision    recall  f1-score   support\n",
      "\n",
      "           0       1.00      1.00      1.00   1270904\n",
      "           1       0.94      0.76      0.84      1620\n",
      "\n",
      "    accuracy                           1.00   1272524\n",
      "   macro avg       0.97      0.88      0.92   1272524\n",
      "weighted avg       1.00      1.00      1.00   1272524\n",
      "\n",
      "Classification report for RandomForestClassifier(class_weight={0: 1, 1: 10}, n_estimators=10)\n",
      "\n",
      "\n",
      "              precision    recall  f1-score   support\n",
      "\n",
      "           0       1.00      1.00      1.00   1270904\n",
      "           1       0.94      0.76      0.84      1620\n",
      "\n",
      "    accuracy                           1.00   1272524\n",
      "   macro avg       0.97      0.88      0.92   1272524\n",
      "weighted avg       1.00      1.00      1.00   1272524\n",
      "\n"
     ]
    }
   ],
   "source": [
    "models = [lr_bal,lr_weight,rf_bal,rf_weight]\n",
    "for model in models:\n",
    "    pipe = Pipeline([\n",
    "    ('trf1',trf),\n",
    "    ('model',model)\n",
    "    ])\n",
    "    pipe.fit(x_train,y_train)\n",
    "    y_pred = pipe.predict(x_test)\n",
    "    print(f\"Classification report for {model}\")\n",
    "    print(\"\\n\")\n",
    "    print(classification_report(y_test,y_pred))"
   ]
  },
  {
   "cell_type": "markdown",
   "id": "a61cb230-580e-4356-af07-9a5ce8a329bb",
   "metadata": {},
   "source": [
    "***2) Assigning custom threshold value***"
   ]
  },
  {
   "cell_type": "code",
   "execution_count": 50,
   "id": "515227bb-e573-466d-a67b-1a53dc334536",
   "metadata": {},
   "outputs": [
    {
     "name": "stdout",
     "output_type": "stream",
     "text": [
      "              precision    recall  f1-score   support\n",
      "\n",
      "           0       1.00      1.00      1.00   1270904\n",
      "           1       0.92      0.77      0.84      1620\n",
      "\n",
      "    accuracy                           1.00   1272524\n",
      "   macro avg       0.96      0.89      0.92   1272524\n",
      "weighted avg       1.00      1.00      1.00   1272524\n",
      "\n"
     ]
    }
   ],
   "source": [
    "rf_weight = RandomForestClassifier(class_weight={0:1,1:10},n_estimators=10)\n",
    "pipe = Pipeline([\n",
    "    ('trf1',trf),\n",
    "    ('lr',rf_weight)\n",
    "])\n",
    "pipe.fit(x_train,y_train)\n",
    "y_prob=pipe.predict_proba(x_test)[:,1]\n",
    "y_pred = (y_prob>0.4).astype(int)\n",
    "print(classification_report(y_test,y_pred))"
   ]
  },
  {
   "cell_type": "code",
   "execution_count": 51,
   "id": "b0a08f47-a173-4369-8c1a-b684c71ec35b",
   "metadata": {},
   "outputs": [
    {
     "name": "stdout",
     "output_type": "stream",
     "text": [
      "              precision    recall  f1-score   support\n",
      "\n",
      "           0       1.00      1.00      1.00   1270904\n",
      "           1       0.77      0.80      0.79      1620\n",
      "\n",
      "    accuracy                           1.00   1272524\n",
      "   macro avg       0.89      0.90      0.89   1272524\n",
      "weighted avg       1.00      1.00      1.00   1272524\n",
      "\n"
     ]
    }
   ],
   "source": [
    "y_prob=pipe.predict_proba(x_test)[:,1]\n",
    "y_pred = (y_prob>0.2).astype(int)\n",
    "print(classification_report(y_test,y_pred))"
   ]
  },
  {
   "cell_type": "markdown",
   "id": "662544fa-beea-43c9-a7af-1440dd3974f5",
   "metadata": {},
   "source": [
    "***3) Sampling Techniques***"
   ]
  },
  {
   "cell_type": "markdown",
   "id": "ba07bd7e-7789-405c-bf2f-71396a8bf62a",
   "metadata": {},
   "source": [
    "**i) Random Under Sampling**"
   ]
  },
  {
   "cell_type": "code",
   "execution_count": 114,
   "id": "66797a74-7235-4bc4-b5e2-fa77e7d010e1",
   "metadata": {},
   "outputs": [
    {
     "name": "stdout",
     "output_type": "stream",
     "text": [
      "              precision    recall  f1-score   support\n",
      "\n",
      "           0       0.98      0.96      0.97      1649\n",
      "           1       0.96      0.98      0.97      1637\n",
      "\n",
      "    accuracy                           0.97      3286\n",
      "   macro avg       0.97      0.97      0.97      3286\n",
      "weighted avg       0.97      0.97      0.97      3286\n",
      "\n"
     ]
    }
   ],
   "source": [
    "from imblearn.under_sampling import RandomUnderSampler\n",
    "\n",
    "rus = RandomUnderSampler(random_state=42)\n",
    "x_sample, y_sample = rus.fit_resample(x, y)\n",
    "x_train, x_test, y_train, y_test = train_test_split(x_sample,y_sample, test_size=0.2, random_state=42)\n",
    "rf_weight = RandomForestClassifier(class_weight={0:1,1:10},n_estimators=10)\n",
    "pipe = Pipeline([\n",
    "    ('trf1',trf),\n",
    "    ('rf',rf_weight)\n",
    "])\n",
    "pipe.fit(x_train,y_train)\n",
    "y_prob=pipe.predict_proba(x_test)[:,1]\n",
    "y_pred = (y_prob>0.4).astype(int)\n",
    "print(classification_report(y_test,y_pred))"
   ]
  },
  {
   "cell_type": "code",
   "execution_count": 142,
   "id": "09158ac4-5019-4955-97fd-33256a9082ce",
   "metadata": {},
   "outputs": [
    {
     "name": "stdout",
     "output_type": "stream",
     "text": [
      "              precision    recall  f1-score   support\n",
      "\n",
      "           0       0.98      0.97      0.97      1649\n",
      "           1       0.97      0.98      0.97      1637\n",
      "\n",
      "    accuracy                           0.97      3286\n",
      "   macro avg       0.97      0.97      0.97      3286\n",
      "weighted avg       0.97      0.97      0.97      3286\n",
      "\n"
     ]
    }
   ],
   "source": [
    "from imblearn.under_sampling import RandomUnderSampler\n",
    "\n",
    "rus = RandomUnderSampler(random_state=42)\n",
    "x_sample, y_sample = rus.fit_resample(x, y)\n",
    "x_train, x_test, y_train, y_test = train_test_split(x_sample,y_sample, test_size=0.2, random_state=42)\n",
    "x_test['type'] = LabelEncoder().fit_transform(x_test['type'])\n",
    "x_train['type'] = LabelEncoder().fit_transform(x_train['type'])\n",
    "rf_weight = RandomForestClassifier(class_weight={0:1,1:10},n_estimators=10)\n",
    "rf_weight.fit(x_train,y_train)\n",
    "y_prob=rf_weight.predict_proba(x_test)[:,1]\n",
    "y_pred = (y_prob>0.4).astype(int)\n",
    "print(classification_report(y_test,y_pred))"
   ]
  },
  {
   "cell_type": "markdown",
   "id": "3ae3a391-7670-48f4-b157-cddc8abc1e36",
   "metadata": {},
   "source": [
    "**ii) Random Over Sampling**"
   ]
  },
  {
   "cell_type": "code",
   "execution_count": 56,
   "id": "98db3fb4-cdc8-4acd-9ae5-d2f99e79786f",
   "metadata": {},
   "outputs": [
    {
     "name": "stdout",
     "output_type": "stream",
     "text": [
      "              precision    recall  f1-score   support\n",
      "\n",
      "           0       1.00      1.00      1.00   1270881\n",
      "           1       0.70      0.81      0.75      1643\n",
      "\n",
      "    accuracy                           1.00   1272524\n",
      "   macro avg       0.85      0.90      0.87   1272524\n",
      "weighted avg       1.00      1.00      1.00   1272524\n",
      "\n"
     ]
    }
   ],
   "source": [
    "from imblearn.over_sampling import RandomOverSampler\n",
    "x_train, x_test, y_train, y_test = train_test_split(x, y, test_size=0.2, random_state=42, stratify=y)\n",
    "ros = RandomOverSampler(random_state=42)\n",
    "x_sample, y_sample = ros.fit_resample(x_train, y_train)\n",
    "\n",
    "rf_weight = RandomForestClassifier(class_weight={0:1, 1:10}, n_estimators=10, random_state=42)\n",
    "pipe = Pipeline([\n",
    "    ('trf1', trf),\n",
    "    ('rf', rf_weight)\n",
    "])\n",
    "\n",
    "pipe.fit(x_sample, y_sample)\n",
    "\n",
    "y_prob = pipe.predict_proba(x_test)[:, 1]\n",
    "y_pred = (y_prob > 0.2).astype(int)\n",
    "print(classification_report(y_test, y_pred))"
   ]
  },
  {
   "cell_type": "markdown",
   "id": "10868b66-9946-4e7d-ad32-8254fba26e5c",
   "metadata": {},
   "source": [
    "**iii) SMOTENC**"
   ]
  },
  {
   "cell_type": "code",
   "execution_count": 58,
   "id": "645ce1f9-e75e-4eb1-a81c-933ec0a5b8a2",
   "metadata": {},
   "outputs": [],
   "source": [
    "from imblearn.over_sampling import SMOTENC\n",
    "x_train, x_test, y_train, y_test = train_test_split(x, y, test_size=0.2, random_state=42, stratify=y)\n",
    "col_indx = [0, 2, 3, 4, 5]  \n",
    "smote = SMOTENC(categorical_features=col_indx, random_state=42)\n",
    "x_sample, y_sample = smote.fit_resample(x_train, y_train)\n",
    "rf_weight = RandomForestClassifier(class_weight={0:1, 1:10}, n_estimators=10, random_state=42)\n",
    "pipe = Pipeline([\n",
    "    ('trf1', trf),\n",
    "    ('rf', rf_weight)\n",
    "])\n",
    "\n",
    "pipe.fit(x_sample, y_sample)\n",
    "\n",
    "y_prob = pipe.predict_proba(x_test)[:, 1]\n",
    "y_pred = (y_prob > 0.4).astype(int)\n",
    "print(classification_report(y_test, y_pred))"
   ]
  },
  {
   "cell_type": "markdown",
   "id": "5ed8bda9-9460-4b4c-b1ff-451445e2cdd3",
   "metadata": {},
   "source": [
    "# Key findings\n",
    "**1) The Dataset is highly imbalance(only 0.129% of transactions are fraudulent) containing 6.3 Million samples and 11 features.<br>\n",
    "2) No Missing values.<br>\n",
    "3) Created New features(\"hour_of_day\",\"day_of_week\",\"is_merchant\",\"changeOrig\",\"changeDest\") using existing features.<br>\n",
    "4) No fraud transactions were detected when the person was a merchant.<br>\n",
    "5) Fraud transactions were found only in \"Cash Out\" and \"Transfer\" transaction types<br>\n",
    "6) Tuesday showed the highest risk of fraud among all days of the week.<br>\n",
    "7) Found many Outliers in amount column.<br>\n",
    "8) Handled imbalanced data using different techniques like assigning custom threshold values, resampling techniques(OverSampling, UnderSampling, SMOTENC) and assigning weight to the class.<br>\n",
    "9) Used SHAP to visualise which feature is important for the model.**"
   ]
  },
  {
   "cell_type": "markdown",
   "id": "c880033b-390f-4d5d-bd65-2b6db444ff2c",
   "metadata": {},
   "source": [
    "# Final Model\n",
    "**Among all the models and data balancing techniques, the Random Forest classifier with class weights{0: 1, 1: 10} performed the best.\n",
    "It have a higher recall compared to other models, which is crucial in fraud detection since identifying fraudulent transactions is more important than minimizing false positives.**"
   ]
  },
  {
   "cell_type": "code",
   "execution_count": 159,
   "id": "bf09aee6-c9ac-4089-84c6-be7d5791787f",
   "metadata": {},
   "outputs": [
    {
     "name": "stdout",
     "output_type": "stream",
     "text": [
      "              precision    recall  f1-score   support\n",
      "\n",
      "           0       1.00      1.00      1.00   1270904\n",
      "           1       0.77      0.80      0.79      1620\n",
      "\n",
      "    accuracy                           1.00   1272524\n",
      "   macro avg       0.89      0.90      0.89   1272524\n",
      "weighted avg       1.00      1.00      1.00   1272524\n",
      "\n"
     ]
    }
   ],
   "source": [
    "x_train, x_test, y_train, y_test = train_test_split(x,y, test_size=0.2, random_state=42)\n",
    "rf_weight = RandomForestClassifier(class_weight={0:1,1:10},n_estimators=10)\n",
    "pipe = Pipeline([\n",
    "    ('trf1',trf),\n",
    "    ('lr',rf_weight)\n",
    "])\n",
    "pipe.fit(x_train,y_train)\n",
    "y_prob=pipe.predict_proba(x_test)[:,1]\n",
    "y_pred = (y_prob>0.2).astype(int)\n",
    "print(classification_report(y_test,y_pred))"
   ]
  },
  {
   "cell_type": "code",
   "execution_count": 169,
   "id": "4a8a7d4a-5e88-4680-9921-60dfe546169d",
   "metadata": {},
   "outputs": [
    {
     "name": "stdout",
     "output_type": "stream",
     "text": [
      "              precision    recall  f1-score   support\n",
      "\n",
      "           0       1.00      1.00      1.00   1270904\n",
      "           1       0.79      0.80      0.79      1620\n",
      "\n",
      "    accuracy                           1.00   1272524\n",
      "   macro avg       0.89      0.90      0.90   1272524\n",
      "weighted avg       1.00      1.00      1.00   1272524\n",
      "\n"
     ]
    }
   ],
   "source": [
    "x_train, x_test, y_train, y_test = train_test_split(x,y, test_size=0.2, random_state=42)\n",
    "x_test['type'] = LabelEncoder().fit_transform(x_test['type'])\n",
    "x_train['type'] = LabelEncoder().fit_transform(x_train['type'])\n",
    "rf_weight = RandomForestClassifier(class_weight={0:1,1:10},n_estimators=10)\n",
    "rf_weight.fit(x_train,y_train)\n",
    "y_prob=rf_weight.predict_proba(x_test)[:,1]\n",
    "y_pred = (y_prob>0.2).astype(int)\n",
    "print(classification_report(y_test,y_pred))"
   ]
  },
  {
   "cell_type": "code",
   "execution_count": 167,
   "id": "c9f0d744-3a10-48e9-9023-3af31965d9dd",
   "metadata": {},
   "outputs": [
    {
     "name": "stderr",
     "output_type": "stream",
     "text": [
      "100%|===================| 2544914/2545048 [88:46<00:00]        "
     ]
    },
    {
     "data": {
      "image/png": "[encoded data removed]",
      "text/plain": [
       "<Figure size 800x550 with 1 Axes>"
      ]
     },
     "metadata": {},
     "output_type": "display_data"
    }
   ],
   "source": [
    "explainer = shap.Explainer(rf_weight,x_train)\n",
    "shap_values = explainer(x_test,check_additivity=False)\n",
    "shap_values_class1 = shap.Explanation(\n",
    "    values=shap_values[:, :, 1],       \n",
    "    base_values=explainer.expected_value[1],\n",
    "    data=x_test,\n",
    "    feature_names=x_test.columns\n",
    ")\n",
    "\n",
    "shap.plots.bar(shap_values_class1,max_display=8)"
   ]
  },
  {
   "cell_type": "code",
   "execution_count": null,
   "id": "1a7d50fb-5e4b-42ad-8026-eb19b44f16ed",
   "metadata": {},
   "outputs": [],
   "source": []
  }
 ],
 "metadata": {
  "kernelspec": {
   "display_name": "Python [conda env:base] *",
   "language": "python",
   "name": "conda-base-py"
  },
  "language_info": {
   "codemirror_mode": {
    "name": "ipython",
    "version": 3
   },
   "file_extension": ".py",
   "mimetype": "text/x-python",
   "name": "python",
   "nbconvert_exporter": "python",
   "pygments_lexer": "ipython3",
   "version": "3.12.7"
  }
 },
 "nbformat": 4,
 "nbformat_minor": 5
}
